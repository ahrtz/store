{
 "cells": [
  {
   "cell_type": "code",
   "execution_count": 1,
   "metadata": {},
   "outputs": [],
   "source": [
    "from selenium import webdriver\n",
    "from selenium.webdriver.common.keys import Keys #키보드 입력 패키지\n",
    "import time\n",
    "from bs4 import BeautifulSoup"
   ]
  },
  {
   "cell_type": "code",
   "execution_count": 2,
   "metadata": {},
   "outputs": [],
   "source": [
    "chromedriver = 'chromedriver.exe'\n",
    "driver = webdriver.Chrome(chromedriver)\n",
    "driver.implicitly_wait(3)"
   ]
  },
  {
   "cell_type": "code",
   "execution_count": 3,
   "metadata": {},
   "outputs": [],
   "source": [
    "driver.get(\"https://poro.gg/summoner/kr/%EA%B7%B8%EB%A6%B0%EB%B9%84%EC%B9%98\")"
   ]
  },
  {
   "cell_type": "markdown",
   "metadata": {},
   "source": [
    "### Click MoreButton"
   ]
  },
  {
   "cell_type": "code",
   "execution_count": 40,
   "metadata": {},
   "outputs": [
    {
     "ename": "NoSuchElementException",
     "evalue": "Message: no such element: Unable to locate element: {\"method\":\"css selector\",\"selector\":\".summoner-btn-more\"}\n  (Session info: chrome=85.0.4183.102)\n",
     "output_type": "error",
     "traceback": [
      "\u001b[1;31m---------------------------------------------------------------------------\u001b[0m",
      "\u001b[1;31mNoSuchElementException\u001b[0m                    Traceback (most recent call last)",
      "\u001b[1;32m<ipython-input-40-57167acfd2f9>\u001b[0m in \u001b[0;36m<module>\u001b[1;34m\u001b[0m\n\u001b[0;32m      3\u001b[0m     \u001b[0mtime\u001b[0m\u001b[1;33m.\u001b[0m\u001b[0msleep\u001b[0m\u001b[1;33m(\u001b[0m\u001b[1;36m0.01\u001b[0m\u001b[1;33m)\u001b[0m\u001b[1;33m\u001b[0m\u001b[1;33m\u001b[0m\u001b[0m\n\u001b[0;32m      4\u001b[0m \u001b[1;32mwhile\u001b[0m \u001b[1;32mTrue\u001b[0m\u001b[1;33m:\u001b[0m\u001b[1;33m\u001b[0m\u001b[1;33m\u001b[0m\u001b[0m\n\u001b[1;32m----> 5\u001b[1;33m     \u001b[0mclickbutton\u001b[0m\u001b[1;33m(\u001b[0m\u001b[1;33m)\u001b[0m\u001b[1;33m\u001b[0m\u001b[1;33m\u001b[0m\u001b[0m\n\u001b[0m\u001b[0;32m      6\u001b[0m     \u001b[1;32mwhile\u001b[0m \u001b[1;32mFalse\u001b[0m\u001b[1;33m:\u001b[0m\u001b[1;33m\u001b[0m\u001b[1;33m\u001b[0m\u001b[0m\n\u001b[0;32m      7\u001b[0m         \u001b[1;32mbreak\u001b[0m\u001b[1;33m\u001b[0m\u001b[1;33m\u001b[0m\u001b[0m\n",
      "\u001b[1;32m<ipython-input-40-57167acfd2f9>\u001b[0m in \u001b[0;36mclickbutton\u001b[1;34m()\u001b[0m\n\u001b[0;32m      1\u001b[0m \u001b[1;32mdef\u001b[0m \u001b[0mclickbutton\u001b[0m\u001b[1;33m(\u001b[0m\u001b[1;33m)\u001b[0m\u001b[1;33m:\u001b[0m\u001b[1;33m\u001b[0m\u001b[1;33m\u001b[0m\u001b[0m\n\u001b[1;32m----> 2\u001b[1;33m     \u001b[0mmorebutton\u001b[0m \u001b[1;33m=\u001b[0m \u001b[0mdriver\u001b[0m\u001b[1;33m.\u001b[0m\u001b[0mfind_element_by_class_name\u001b[0m\u001b[1;33m(\u001b[0m\u001b[1;34m'summoner-btn-more'\u001b[0m\u001b[1;33m)\u001b[0m\u001b[1;33m.\u001b[0m\u001b[0mclick\u001b[0m\u001b[1;33m(\u001b[0m\u001b[1;33m)\u001b[0m\u001b[1;33m\u001b[0m\u001b[1;33m\u001b[0m\u001b[0m\n\u001b[0m\u001b[0;32m      3\u001b[0m     \u001b[0mtime\u001b[0m\u001b[1;33m.\u001b[0m\u001b[0msleep\u001b[0m\u001b[1;33m(\u001b[0m\u001b[1;36m0.01\u001b[0m\u001b[1;33m)\u001b[0m\u001b[1;33m\u001b[0m\u001b[1;33m\u001b[0m\u001b[0m\n\u001b[0;32m      4\u001b[0m \u001b[1;32mwhile\u001b[0m \u001b[1;32mTrue\u001b[0m\u001b[1;33m:\u001b[0m\u001b[1;33m\u001b[0m\u001b[1;33m\u001b[0m\u001b[0m\n\u001b[0;32m      5\u001b[0m     \u001b[0mclickbutton\u001b[0m\u001b[1;33m(\u001b[0m\u001b[1;33m)\u001b[0m\u001b[1;33m\u001b[0m\u001b[1;33m\u001b[0m\u001b[0m\n",
      "\u001b[1;32mc:\\users\\davichiar\\appdata\\local\\programs\\python\\python36\\lib\\site-packages\\selenium\\webdriver\\remote\\webdriver.py\u001b[0m in \u001b[0;36mfind_element_by_class_name\u001b[1;34m(self, name)\u001b[0m\n\u001b[0;32m    562\u001b[0m             \u001b[0melement\u001b[0m \u001b[1;33m=\u001b[0m \u001b[0mdriver\u001b[0m\u001b[1;33m.\u001b[0m\u001b[0mfind_element_by_class_name\u001b[0m\u001b[1;33m(\u001b[0m\u001b[1;34m'foo'\u001b[0m\u001b[1;33m)\u001b[0m\u001b[1;33m\u001b[0m\u001b[1;33m\u001b[0m\u001b[0m\n\u001b[0;32m    563\u001b[0m         \"\"\"\n\u001b[1;32m--> 564\u001b[1;33m         \u001b[1;32mreturn\u001b[0m \u001b[0mself\u001b[0m\u001b[1;33m.\u001b[0m\u001b[0mfind_element\u001b[0m\u001b[1;33m(\u001b[0m\u001b[0mby\u001b[0m\u001b[1;33m=\u001b[0m\u001b[0mBy\u001b[0m\u001b[1;33m.\u001b[0m\u001b[0mCLASS_NAME\u001b[0m\u001b[1;33m,\u001b[0m \u001b[0mvalue\u001b[0m\u001b[1;33m=\u001b[0m\u001b[0mname\u001b[0m\u001b[1;33m)\u001b[0m\u001b[1;33m\u001b[0m\u001b[1;33m\u001b[0m\u001b[0m\n\u001b[0m\u001b[0;32m    565\u001b[0m \u001b[1;33m\u001b[0m\u001b[0m\n\u001b[0;32m    566\u001b[0m     \u001b[1;32mdef\u001b[0m \u001b[0mfind_elements_by_class_name\u001b[0m\u001b[1;33m(\u001b[0m\u001b[0mself\u001b[0m\u001b[1;33m,\u001b[0m \u001b[0mname\u001b[0m\u001b[1;33m)\u001b[0m\u001b[1;33m:\u001b[0m\u001b[1;33m\u001b[0m\u001b[1;33m\u001b[0m\u001b[0m\n",
      "\u001b[1;32mc:\\users\\davichiar\\appdata\\local\\programs\\python\\python36\\lib\\site-packages\\selenium\\webdriver\\remote\\webdriver.py\u001b[0m in \u001b[0;36mfind_element\u001b[1;34m(self, by, value)\u001b[0m\n\u001b[0;32m    976\u001b[0m         return self.execute(Command.FIND_ELEMENT, {\n\u001b[0;32m    977\u001b[0m             \u001b[1;34m'using'\u001b[0m\u001b[1;33m:\u001b[0m \u001b[0mby\u001b[0m\u001b[1;33m,\u001b[0m\u001b[1;33m\u001b[0m\u001b[1;33m\u001b[0m\u001b[0m\n\u001b[1;32m--> 978\u001b[1;33m             'value': value})['value']\n\u001b[0m\u001b[0;32m    979\u001b[0m \u001b[1;33m\u001b[0m\u001b[0m\n\u001b[0;32m    980\u001b[0m     \u001b[1;32mdef\u001b[0m \u001b[0mfind_elements\u001b[0m\u001b[1;33m(\u001b[0m\u001b[0mself\u001b[0m\u001b[1;33m,\u001b[0m \u001b[0mby\u001b[0m\u001b[1;33m=\u001b[0m\u001b[0mBy\u001b[0m\u001b[1;33m.\u001b[0m\u001b[0mID\u001b[0m\u001b[1;33m,\u001b[0m \u001b[0mvalue\u001b[0m\u001b[1;33m=\u001b[0m\u001b[1;32mNone\u001b[0m\u001b[1;33m)\u001b[0m\u001b[1;33m:\u001b[0m\u001b[1;33m\u001b[0m\u001b[1;33m\u001b[0m\u001b[0m\n",
      "\u001b[1;32mc:\\users\\davichiar\\appdata\\local\\programs\\python\\python36\\lib\\site-packages\\selenium\\webdriver\\remote\\webdriver.py\u001b[0m in \u001b[0;36mexecute\u001b[1;34m(self, driver_command, params)\u001b[0m\n\u001b[0;32m    319\u001b[0m         \u001b[0mresponse\u001b[0m \u001b[1;33m=\u001b[0m \u001b[0mself\u001b[0m\u001b[1;33m.\u001b[0m\u001b[0mcommand_executor\u001b[0m\u001b[1;33m.\u001b[0m\u001b[0mexecute\u001b[0m\u001b[1;33m(\u001b[0m\u001b[0mdriver_command\u001b[0m\u001b[1;33m,\u001b[0m \u001b[0mparams\u001b[0m\u001b[1;33m)\u001b[0m\u001b[1;33m\u001b[0m\u001b[1;33m\u001b[0m\u001b[0m\n\u001b[0;32m    320\u001b[0m         \u001b[1;32mif\u001b[0m \u001b[0mresponse\u001b[0m\u001b[1;33m:\u001b[0m\u001b[1;33m\u001b[0m\u001b[1;33m\u001b[0m\u001b[0m\n\u001b[1;32m--> 321\u001b[1;33m             \u001b[0mself\u001b[0m\u001b[1;33m.\u001b[0m\u001b[0merror_handler\u001b[0m\u001b[1;33m.\u001b[0m\u001b[0mcheck_response\u001b[0m\u001b[1;33m(\u001b[0m\u001b[0mresponse\u001b[0m\u001b[1;33m)\u001b[0m\u001b[1;33m\u001b[0m\u001b[1;33m\u001b[0m\u001b[0m\n\u001b[0m\u001b[0;32m    322\u001b[0m             response['value'] = self._unwrap_value(\n\u001b[0;32m    323\u001b[0m                 response.get('value', None))\n",
      "\u001b[1;32mc:\\users\\davichiar\\appdata\\local\\programs\\python\\python36\\lib\\site-packages\\selenium\\webdriver\\remote\\errorhandler.py\u001b[0m in \u001b[0;36mcheck_response\u001b[1;34m(self, response)\u001b[0m\n\u001b[0;32m    240\u001b[0m                 \u001b[0malert_text\u001b[0m \u001b[1;33m=\u001b[0m \u001b[0mvalue\u001b[0m\u001b[1;33m[\u001b[0m\u001b[1;34m'alert'\u001b[0m\u001b[1;33m]\u001b[0m\u001b[1;33m.\u001b[0m\u001b[0mget\u001b[0m\u001b[1;33m(\u001b[0m\u001b[1;34m'text'\u001b[0m\u001b[1;33m)\u001b[0m\u001b[1;33m\u001b[0m\u001b[1;33m\u001b[0m\u001b[0m\n\u001b[0;32m    241\u001b[0m             \u001b[1;32mraise\u001b[0m \u001b[0mexception_class\u001b[0m\u001b[1;33m(\u001b[0m\u001b[0mmessage\u001b[0m\u001b[1;33m,\u001b[0m \u001b[0mscreen\u001b[0m\u001b[1;33m,\u001b[0m \u001b[0mstacktrace\u001b[0m\u001b[1;33m,\u001b[0m \u001b[0malert_text\u001b[0m\u001b[1;33m)\u001b[0m\u001b[1;33m\u001b[0m\u001b[1;33m\u001b[0m\u001b[0m\n\u001b[1;32m--> 242\u001b[1;33m         \u001b[1;32mraise\u001b[0m \u001b[0mexception_class\u001b[0m\u001b[1;33m(\u001b[0m\u001b[0mmessage\u001b[0m\u001b[1;33m,\u001b[0m \u001b[0mscreen\u001b[0m\u001b[1;33m,\u001b[0m \u001b[0mstacktrace\u001b[0m\u001b[1;33m)\u001b[0m\u001b[1;33m\u001b[0m\u001b[1;33m\u001b[0m\u001b[0m\n\u001b[0m\u001b[0;32m    243\u001b[0m \u001b[1;33m\u001b[0m\u001b[0m\n\u001b[0;32m    244\u001b[0m     \u001b[1;32mdef\u001b[0m \u001b[0m_value_or_default\u001b[0m\u001b[1;33m(\u001b[0m\u001b[0mself\u001b[0m\u001b[1;33m,\u001b[0m \u001b[0mobj\u001b[0m\u001b[1;33m,\u001b[0m \u001b[0mkey\u001b[0m\u001b[1;33m,\u001b[0m \u001b[0mdefault\u001b[0m\u001b[1;33m)\u001b[0m\u001b[1;33m:\u001b[0m\u001b[1;33m\u001b[0m\u001b[1;33m\u001b[0m\u001b[0m\n",
      "\u001b[1;31mNoSuchElementException\u001b[0m: Message: no such element: Unable to locate element: {\"method\":\"css selector\",\"selector\":\".summoner-btn-more\"}\n  (Session info: chrome=85.0.4183.102)\n"
     ]
    }
   ],
   "source": [
    "def clickbutton():\n",
    "    morebutton = driver.find_element_by_class_name('summoner-btn-more').click()\n",
    "    time.sleep(0.01)\n",
    "while True:\n",
    "    clickbutton()\n",
    "    while False:\n",
    "        break"
   ]
  },
  {
   "cell_type": "markdown",
   "metadata": {},
   "source": [
    "### Click DetailButton"
   ]
  },
  {
   "cell_type": "code",
   "execution_count": 41,
   "metadata": {},
   "outputs": [],
   "source": [
    "from selenium.webdriver.common.keys import Keys\n",
    "\n",
    "details = driver.find_elements_by_xpath(\"//div[contains(@class,'match-history__expand-toggle-small')]\")\n",
    "for i in details:\n",
    "    driver.execute_script(\"arguments[0].click();\", i)\n",
    "    time.sleep(0.1)"
   ]
  },
  {
   "cell_type": "code",
   "execution_count": 42,
   "metadata": {},
   "outputs": [
    {
     "name": "stdout",
     "output_type": "stream",
     "text": [
      "[<selenium.webdriver.remote.webelement.WebElement (session=\"7fa71b331742825d38981ad913ed9ebf\", element=\"7d89f1f6-b3cb-4f00-a380-22cbf9f63328\")>, <selenium.webdriver.remote.webelement.WebElement (session=\"7fa71b331742825d38981ad913ed9ebf\", element=\"6d9a6f8d-d9fd-414e-9a3a-029cb0231b85\")>, <selenium.webdriver.remote.webelement.WebElement (session=\"7fa71b331742825d38981ad913ed9ebf\", element=\"3e4c3d0b-a040-49d4-a93a-5fe436a52f8e\")>, <selenium.webdriver.remote.webelement.WebElement (session=\"7fa71b331742825d38981ad913ed9ebf\", element=\"30553582-6a9d-4e06-a1a0-a6a697fb7361\")>, <selenium.webdriver.remote.webelement.WebElement (session=\"7fa71b331742825d38981ad913ed9ebf\", element=\"19754186-9382-493d-a852-d6e689892d10\")>, <selenium.webdriver.remote.webelement.WebElement (session=\"7fa71b331742825d38981ad913ed9ebf\", element=\"1afc8d32-6707-43f4-9e58-c003d71a8b0e\")>, <selenium.webdriver.remote.webelement.WebElement (session=\"7fa71b331742825d38981ad913ed9ebf\", element=\"9d7082d5-27a4-4892-94d6-b0f0352744c3\")>, <selenium.webdriver.remote.webelement.WebElement (session=\"7fa71b331742825d38981ad913ed9ebf\", element=\"ff106dd6-d5d6-4c47-9f58-0da99baf70b3\")>, <selenium.webdriver.remote.webelement.WebElement (session=\"7fa71b331742825d38981ad913ed9ebf\", element=\"5260fedf-e9cc-423a-964d-4f085236d32a\")>, <selenium.webdriver.remote.webelement.WebElement (session=\"7fa71b331742825d38981ad913ed9ebf\", element=\"a1eb1ad3-f0c4-40c1-bad5-e166bdfb8b81\")>, <selenium.webdriver.remote.webelement.WebElement (session=\"7fa71b331742825d38981ad913ed9ebf\", element=\"cc28dde3-d908-4e7e-b888-031ecdc0ba20\")>, <selenium.webdriver.remote.webelement.WebElement (session=\"7fa71b331742825d38981ad913ed9ebf\", element=\"82b76aae-a65a-4acc-9c35-15a68c1b566d\")>, <selenium.webdriver.remote.webelement.WebElement (session=\"7fa71b331742825d38981ad913ed9ebf\", element=\"67dd49fa-4289-420c-b197-b95e7f26552f\")>, <selenium.webdriver.remote.webelement.WebElement (session=\"7fa71b331742825d38981ad913ed9ebf\", element=\"db2228fc-b4f3-46c6-99d6-8418abb12f03\")>, <selenium.webdriver.remote.webelement.WebElement (session=\"7fa71b331742825d38981ad913ed9ebf\", element=\"2806ea37-f4a0-4609-9fae-e584bf667925\")>, <selenium.webdriver.remote.webelement.WebElement (session=\"7fa71b331742825d38981ad913ed9ebf\", element=\"f9edb4be-c016-4573-b907-477d354b7195\")>, <selenium.webdriver.remote.webelement.WebElement (session=\"7fa71b331742825d38981ad913ed9ebf\", element=\"ceca198b-e6a8-4523-b5bc-1ddd75d546c5\")>, <selenium.webdriver.remote.webelement.WebElement (session=\"7fa71b331742825d38981ad913ed9ebf\", element=\"62522ad6-d53e-486b-8b65-210d99287bfd\")>, <selenium.webdriver.remote.webelement.WebElement (session=\"7fa71b331742825d38981ad913ed9ebf\", element=\"a1c50158-fc59-4ea7-9672-b70ed9458a5f\")>, <selenium.webdriver.remote.webelement.WebElement (session=\"7fa71b331742825d38981ad913ed9ebf\", element=\"2560655d-a88c-4ba8-9a40-453ed3464c40\")>, <selenium.webdriver.remote.webelement.WebElement (session=\"7fa71b331742825d38981ad913ed9ebf\", element=\"aceb8a89-ef0c-4f0a-9e1d-760ea472371c\")>, <selenium.webdriver.remote.webelement.WebElement (session=\"7fa71b331742825d38981ad913ed9ebf\", element=\"3f1f99de-dba3-4a28-a6e4-c1ba56a397e6\")>, <selenium.webdriver.remote.webelement.WebElement (session=\"7fa71b331742825d38981ad913ed9ebf\", element=\"ef8b5690-1f8f-44b3-b9aa-23c369580915\")>, <selenium.webdriver.remote.webelement.WebElement (session=\"7fa71b331742825d38981ad913ed9ebf\", element=\"c08f8441-abfb-448b-ba63-7386e9d69895\")>, <selenium.webdriver.remote.webelement.WebElement (session=\"7fa71b331742825d38981ad913ed9ebf\", element=\"e7f89979-0f18-4836-a149-008d954d78e6\")>, <selenium.webdriver.remote.webelement.WebElement (session=\"7fa71b331742825d38981ad913ed9ebf\", element=\"4ddb878f-d072-4bb0-b3d5-69105565fc56\")>, <selenium.webdriver.remote.webelement.WebElement (session=\"7fa71b331742825d38981ad913ed9ebf\", element=\"5c1134d2-d694-47c7-a04c-39b2c0c0d595\")>, <selenium.webdriver.remote.webelement.WebElement (session=\"7fa71b331742825d38981ad913ed9ebf\", element=\"6068a90d-df71-4515-b216-117b92943288\")>, <selenium.webdriver.remote.webelement.WebElement (session=\"7fa71b331742825d38981ad913ed9ebf\", element=\"28c65f1f-751c-4f59-b9a6-ffc31096599e\")>, <selenium.webdriver.remote.webelement.WebElement (session=\"7fa71b331742825d38981ad913ed9ebf\", element=\"97517456-0ef0-452c-93a8-6f5a34ecdccc\")>, <selenium.webdriver.remote.webelement.WebElement (session=\"7fa71b331742825d38981ad913ed9ebf\", element=\"bd2a2bd3-e71f-44fd-b35c-403b6bb3e2f7\")>, <selenium.webdriver.remote.webelement.WebElement (session=\"7fa71b331742825d38981ad913ed9ebf\", element=\"0b4cf421-5e5e-4c82-9fc0-6c38d8180236\")>, <selenium.webdriver.remote.webelement.WebElement (session=\"7fa71b331742825d38981ad913ed9ebf\", element=\"0b1e6ab6-c150-4067-979a-786166cd465f\")>, <selenium.webdriver.remote.webelement.WebElement (session=\"7fa71b331742825d38981ad913ed9ebf\", element=\"3a45ac29-815a-447c-83e2-446d62e8c748\")>, <selenium.webdriver.remote.webelement.WebElement (session=\"7fa71b331742825d38981ad913ed9ebf\", element=\"7f1521f3-da8f-4c7d-baf2-f7f948dddf67\")>, <selenium.webdriver.remote.webelement.WebElement (session=\"7fa71b331742825d38981ad913ed9ebf\", element=\"3c3aa59d-ec29-4b60-bb94-bdc546d1ac17\")>, <selenium.webdriver.remote.webelement.WebElement (session=\"7fa71b331742825d38981ad913ed9ebf\", element=\"31748b53-94f0-4db0-93c8-58a3238749ba\")>, <selenium.webdriver.remote.webelement.WebElement (session=\"7fa71b331742825d38981ad913ed9ebf\", element=\"b64f16b3-6bbf-49af-8c1f-bc707f422499\")>, <selenium.webdriver.remote.webelement.WebElement (session=\"7fa71b331742825d38981ad913ed9ebf\", element=\"ba7da266-9bd0-459e-95bd-5ec1972af53e\")>, <selenium.webdriver.remote.webelement.WebElement (session=\"7fa71b331742825d38981ad913ed9ebf\", element=\"443050f8-4a3f-41ed-8933-232dc1617ba6\")>, <selenium.webdriver.remote.webelement.WebElement (session=\"7fa71b331742825d38981ad913ed9ebf\", element=\"c7955308-db9f-4fdb-98bf-1b33cdffc300\")>, <selenium.webdriver.remote.webelement.WebElement (session=\"7fa71b331742825d38981ad913ed9ebf\", element=\"2b190f00-e596-43cb-b7ec-541d0be0feec\")>, <selenium.webdriver.remote.webelement.WebElement (session=\"7fa71b331742825d38981ad913ed9ebf\", element=\"60d36d50-6a53-4626-a5d3-8f11cc45b16a\")>, <selenium.webdriver.remote.webelement.WebElement (session=\"7fa71b331742825d38981ad913ed9ebf\", element=\"4803a8df-d84b-467e-a38d-1a2b60bb1803\")>, <selenium.webdriver.remote.webelement.WebElement (session=\"7fa71b331742825d38981ad913ed9ebf\", element=\"21283bb1-c755-4948-9f3c-51dc2fefb256\")>, <selenium.webdriver.remote.webelement.WebElement (session=\"7fa71b331742825d38981ad913ed9ebf\", element=\"0a72c737-4104-499a-9a96-202969d4aa63\")>, <selenium.webdriver.remote.webelement.WebElement (session=\"7fa71b331742825d38981ad913ed9ebf\", element=\"8633da1d-e2bf-4e4b-8198-5315b3372e73\")>, <selenium.webdriver.remote.webelement.WebElement (session=\"7fa71b331742825d38981ad913ed9ebf\", element=\"a2a54251-811c-4244-a0d2-68e4008f74ea\")>, <selenium.webdriver.remote.webelement.WebElement (session=\"7fa71b331742825d38981ad913ed9ebf\", element=\"b4ebd129-dbf2-419f-aedb-544a5ad01f5a\")>, <selenium.webdriver.remote.webelement.WebElement (session=\"7fa71b331742825d38981ad913ed9ebf\", element=\"b62016ce-21d5-4a07-a0cf-0a1c87442d06\")>, <selenium.webdriver.remote.webelement.WebElement (session=\"7fa71b331742825d38981ad913ed9ebf\", element=\"8c33befb-45b3-4a53-86df-8f82ffbfc8a7\")>, <selenium.webdriver.remote.webelement.WebElement (session=\"7fa71b331742825d38981ad913ed9ebf\", element=\"6fe7be7e-2577-45b5-99db-42486329894d\")>, <selenium.webdriver.remote.webelement.WebElement (session=\"7fa71b331742825d38981ad913ed9ebf\", element=\"84c916ed-0df6-45ef-b2f2-cdedffd001b5\")>, <selenium.webdriver.remote.webelement.WebElement (session=\"7fa71b331742825d38981ad913ed9ebf\", element=\"d8cfd3ae-e80f-4e41-a494-bbc29ec32da3\")>, <selenium.webdriver.remote.webelement.WebElement (session=\"7fa71b331742825d38981ad913ed9ebf\", element=\"f97f43a6-a609-4faf-976c-0fdd20dd3f30\")>, <selenium.webdriver.remote.webelement.WebElement (session=\"7fa71b331742825d38981ad913ed9ebf\", element=\"6a9e5026-ff95-46a7-9063-60492f020cbd\")>, <selenium.webdriver.remote.webelement.WebElement (session=\"7fa71b331742825d38981ad913ed9ebf\", element=\"1cef9b6d-7bda-4549-9ec9-3addb5de6285\")>, <selenium.webdriver.remote.webelement.WebElement (session=\"7fa71b331742825d38981ad913ed9ebf\", element=\"ff5a151d-42ca-483f-91fa-b12b042feb01\")>, <selenium.webdriver.remote.webelement.WebElement (session=\"7fa71b331742825d38981ad913ed9ebf\", element=\"4abfe277-baac-4f70-9cbc-dbe515ba7a23\")>, <selenium.webdriver.remote.webelement.WebElement (session=\"7fa71b331742825d38981ad913ed9ebf\", element=\"60e35605-af9f-4570-b529-bf298cb9cc72\")>, <selenium.webdriver.remote.webelement.WebElement (session=\"7fa71b331742825d38981ad913ed9ebf\", element=\"9f0007c0-617b-4248-ab38-1d885f74686c\")>, <selenium.webdriver.remote.webelement.WebElement (session=\"7fa71b331742825d38981ad913ed9ebf\", element=\"0aacd44d-6811-45fc-995d-2211cf83efbe\")>, <selenium.webdriver.remote.webelement.WebElement (session=\"7fa71b331742825d38981ad913ed9ebf\", element=\"23cf0f3a-5fc6-420e-a063-3bee9e89f917\")>, <selenium.webdriver.remote.webelement.WebElement (session=\"7fa71b331742825d38981ad913ed9ebf\", element=\"2a1f9d35-2a0e-4d27-8afc-6b622e041808\")>, <selenium.webdriver.remote.webelement.WebElement (session=\"7fa71b331742825d38981ad913ed9ebf\", element=\"8cc51742-7db3-43c8-bd68-7ce8aadc0e43\")>, <selenium.webdriver.remote.webelement.WebElement (session=\"7fa71b331742825d38981ad913ed9ebf\", element=\"570f1094-ee2d-460e-b701-ba87a74aeb37\")>, <selenium.webdriver.remote.webelement.WebElement (session=\"7fa71b331742825d38981ad913ed9ebf\", element=\"2a9f9282-ec15-46b5-9ad0-7b45fc56ba34\")>, <selenium.webdriver.remote.webelement.WebElement (session=\"7fa71b331742825d38981ad913ed9ebf\", element=\"eff70233-b3b2-4d89-9065-1dd27686de49\")>, <selenium.webdriver.remote.webelement.WebElement (session=\"7fa71b331742825d38981ad913ed9ebf\", element=\"e9f87845-86ca-44d1-98e5-78a84d73f044\")>, <selenium.webdriver.remote.webelement.WebElement (session=\"7fa71b331742825d38981ad913ed9ebf\", element=\"0232a595-a828-4be7-bf0a-c86008f0381e\")>, <selenium.webdriver.remote.webelement.WebElement (session=\"7fa71b331742825d38981ad913ed9ebf\", element=\"6a670d30-1a01-463b-8b26-87201619a55c\")>, <selenium.webdriver.remote.webelement.WebElement (session=\"7fa71b331742825d38981ad913ed9ebf\", element=\"06b0c7e4-2cde-4991-97ff-419c403a81be\")>, <selenium.webdriver.remote.webelement.WebElement (session=\"7fa71b331742825d38981ad913ed9ebf\", element=\"4c5b5889-ffad-45dc-913f-48acaeb87052\")>, <selenium.webdriver.remote.webelement.WebElement (session=\"7fa71b331742825d38981ad913ed9ebf\", element=\"32b0d8dd-605f-49e5-a62e-73f2b6562a5c\")>, <selenium.webdriver.remote.webelement.WebElement (session=\"7fa71b331742825d38981ad913ed9ebf\", element=\"26896f2f-c872-431c-90ba-cf9939f392d7\")>, <selenium.webdriver.remote.webelement.WebElement (session=\"7fa71b331742825d38981ad913ed9ebf\", element=\"f3b09fe2-965f-4a9b-8579-1e164a3691c6\")>, <selenium.webdriver.remote.webelement.WebElement (session=\"7fa71b331742825d38981ad913ed9ebf\", element=\"c91adc87-7513-43e5-aee6-c9a26ec09665\")>, <selenium.webdriver.remote.webelement.WebElement (session=\"7fa71b331742825d38981ad913ed9ebf\", element=\"251684e9-c228-440c-aaf1-0f5978d20496\")>, <selenium.webdriver.remote.webelement.WebElement (session=\"7fa71b331742825d38981ad913ed9ebf\", element=\"7043d9ed-94a2-4dee-9654-3ebf6bb0a731\")>, <selenium.webdriver.remote.webelement.WebElement (session=\"7fa71b331742825d38981ad913ed9ebf\", element=\"e5356a0f-09f6-44fc-a868-1ec7e0ba371a\")>, <selenium.webdriver.remote.webelement.WebElement (session=\"7fa71b331742825d38981ad913ed9ebf\", element=\"d182c92c-6178-4992-b7f4-b7a32348a825\")>, <selenium.webdriver.remote.webelement.WebElement (session=\"7fa71b331742825d38981ad913ed9ebf\", element=\"414ac33f-4848-49f6-b3dd-9017a40d804c\")>, <selenium.webdriver.remote.webelement.WebElement (session=\"7fa71b331742825d38981ad913ed9ebf\", element=\"83a84b96-fb41-4132-8a1e-cb380e7890ea\")>, <selenium.webdriver.remote.webelement.WebElement (session=\"7fa71b331742825d38981ad913ed9ebf\", element=\"8d82bc68-3ec4-4ab7-8ed1-b4c268c07e84\")>, <selenium.webdriver.remote.webelement.WebElement (session=\"7fa71b331742825d38981ad913ed9ebf\", element=\"a04e33fe-b82a-4a22-974f-3b71ffe4c3ef\")>, <selenium.webdriver.remote.webelement.WebElement (session=\"7fa71b331742825d38981ad913ed9ebf\", element=\"d794ae2b-5479-485c-9532-4b2c54ac70c2\")>, <selenium.webdriver.remote.webelement.WebElement (session=\"7fa71b331742825d38981ad913ed9ebf\", element=\"dc004410-f72a-4a0d-9f21-16da7a8a7d8b\")>, <selenium.webdriver.remote.webelement.WebElement (session=\"7fa71b331742825d38981ad913ed9ebf\", element=\"80ec9f02-9244-490c-bbe8-cde1d60ed5fe\")>, <selenium.webdriver.remote.webelement.WebElement (session=\"7fa71b331742825d38981ad913ed9ebf\", element=\"d923dafd-737e-4ae9-83ee-5c456912b2ce\")>, <selenium.webdriver.remote.webelement.WebElement (session=\"7fa71b331742825d38981ad913ed9ebf\", element=\"a61fbfc8-02ce-441d-a8f5-84212ab41299\")>, <selenium.webdriver.remote.webelement.WebElement (session=\"7fa71b331742825d38981ad913ed9ebf\", element=\"b67c2487-0423-47c0-a6bf-8b62a3bea118\")>, <selenium.webdriver.remote.webelement.WebElement (session=\"7fa71b331742825d38981ad913ed9ebf\", element=\"4b41802d-a2ec-4bfb-bd24-8498256ecb64\")>, <selenium.webdriver.remote.webelement.WebElement (session=\"7fa71b331742825d38981ad913ed9ebf\", element=\"eda5cbc3-65f6-4448-b683-399ca99c4f22\")>, <selenium.webdriver.remote.webelement.WebElement (session=\"7fa71b331742825d38981ad913ed9ebf\", element=\"847c00ca-fdd5-4551-bcb5-8f71248736dc\")>, <selenium.webdriver.remote.webelement.WebElement (session=\"7fa71b331742825d38981ad913ed9ebf\", element=\"1476872e-ab38-47be-95b9-8df542d11bf8\")>, <selenium.webdriver.remote.webelement.WebElement (session=\"7fa71b331742825d38981ad913ed9ebf\", element=\"dab39511-4250-4ee5-af6d-6cd0c8f0f2b0\")>, <selenium.webdriver.remote.webelement.WebElement (session=\"7fa71b331742825d38981ad913ed9ebf\", element=\"9d052f74-5ded-453d-8594-b46ab0c5e152\")>, <selenium.webdriver.remote.webelement.WebElement (session=\"7fa71b331742825d38981ad913ed9ebf\", element=\"1549c5ce-a7b2-4ede-9719-bff119c73acc\")>, <selenium.webdriver.remote.webelement.WebElement (session=\"7fa71b331742825d38981ad913ed9ebf\", element=\"25413d81-4065-4641-8bcd-8fadc55e96f8\")>, <selenium.webdriver.remote.webelement.WebElement (session=\"7fa71b331742825d38981ad913ed9ebf\", element=\"4b28786f-c8dc-4d66-9f52-c4b53e4c197d\")>, <selenium.webdriver.remote.webelement.WebElement (session=\"7fa71b331742825d38981ad913ed9ebf\", element=\"1b494412-ed58-4199-9aca-5244567a5d10\")>, <selenium.webdriver.remote.webelement.WebElement (session=\"7fa71b331742825d38981ad913ed9ebf\", element=\"69d78e1d-cbc5-4571-93a0-4876c0112471\")>, <selenium.webdriver.remote.webelement.WebElement (session=\"7fa71b331742825d38981ad913ed9ebf\", element=\"5396af24-3489-4d79-acb0-bfced2d1583d\")>, <selenium.webdriver.remote.webelement.WebElement (session=\"7fa71b331742825d38981ad913ed9ebf\", element=\"0141562f-96c0-456c-b6b7-2fda4efed23d\")>, <selenium.webdriver.remote.webelement.WebElement (session=\"7fa71b331742825d38981ad913ed9ebf\", element=\"104cfa48-ef53-4ed7-b61a-4b72b8a39c64\")>, <selenium.webdriver.remote.webelement.WebElement (session=\"7fa71b331742825d38981ad913ed9ebf\", element=\"aec2aeaa-b853-4aa6-974b-7596454345f5\")>, <selenium.webdriver.remote.webelement.WebElement (session=\"7fa71b331742825d38981ad913ed9ebf\", element=\"ffe2ff03-d63f-45f0-899e-76a69b3028c2\")>, <selenium.webdriver.remote.webelement.WebElement (session=\"7fa71b331742825d38981ad913ed9ebf\", element=\"56cd692b-43c0-4340-925e-98e00019aeaf\")>, <selenium.webdriver.remote.webelement.WebElement (session=\"7fa71b331742825d38981ad913ed9ebf\", element=\"8e4e01c2-265d-4f5e-8c93-1108031be963\")>, <selenium.webdriver.remote.webelement.WebElement (session=\"7fa71b331742825d38981ad913ed9ebf\", element=\"94ea0057-56b1-47b7-b45d-0e6264af39ed\")>, <selenium.webdriver.remote.webelement.WebElement (session=\"7fa71b331742825d38981ad913ed9ebf\", element=\"e55e7e44-371f-4796-83c5-a3705d9be96f\")>, <selenium.webdriver.remote.webelement.WebElement (session=\"7fa71b331742825d38981ad913ed9ebf\", element=\"1cda21ab-ffca-499b-80ba-cc78fa8138fe\")>, <selenium.webdriver.remote.webelement.WebElement (session=\"7fa71b331742825d38981ad913ed9ebf\", element=\"e517c299-61db-49fa-bbb5-8b1d6a7d0f19\")>, <selenium.webdriver.remote.webelement.WebElement (session=\"7fa71b331742825d38981ad913ed9ebf\", element=\"fd8a80bc-ccde-4e6d-baba-1f09e2f360fc\")>, <selenium.webdriver.remote.webelement.WebElement (session=\"7fa71b331742825d38981ad913ed9ebf\", element=\"6e6d4079-29d0-4cfa-9653-b577933d910c\")>, <selenium.webdriver.remote.webelement.WebElement (session=\"7fa71b331742825d38981ad913ed9ebf\", element=\"377b47f8-7766-48d3-9b85-6be29a275143\")>, <selenium.webdriver.remote.webelement.WebElement (session=\"7fa71b331742825d38981ad913ed9ebf\", element=\"c5a736e8-7934-49ca-b7dc-91d4f7934b97\")>, <selenium.webdriver.remote.webelement.WebElement (session=\"7fa71b331742825d38981ad913ed9ebf\", element=\"8bf3a958-7655-47dc-8ace-40bf9b7b3c17\")>, <selenium.webdriver.remote.webelement.WebElement (session=\"7fa71b331742825d38981ad913ed9ebf\", element=\"3b272426-f55a-4e39-a793-5d02e9657dd8\")>, <selenium.webdriver.remote.webelement.WebElement (session=\"7fa71b331742825d38981ad913ed9ebf\", element=\"8c5fb0e5-9375-40ea-8747-68c023eff59a\")>]\n"
     ]
    }
   ],
   "source": [
    "details = driver.find_elements_by_xpath(\"//div[contains(@class,'match-history-detail__tab')]\")\n",
    "print(details)\n",
    "\n",
    "cnt = 1\n",
    "for i in details:\n",
    "    if cnt %3 == 0:\n",
    "        driver.execute_script(\"arguments[0].click();\", i)\n",
    "    time.sleep(0.1)\n",
    "    cnt += 1"
   ]
  },
  {
   "cell_type": "code",
   "execution_count": null,
   "metadata": {},
   "outputs": [],
   "source": []
  }
 ],
 "metadata": {
  "kernelspec": {
   "display_name": "Python 3",
   "language": "python",
   "name": "python3"
  },
  "language_info": {
   "codemirror_mode": {
    "name": "ipython",
    "version": 3
   },
   "file_extension": ".py",
   "mimetype": "text/x-python",
   "name": "python",
   "nbconvert_exporter": "python",
   "pygments_lexer": "ipython3",
   "version": "3.6.8"
  },
  "varInspector": {
   "cols": {
    "lenName": 16,
    "lenType": 16,
    "lenVar": 40
   },
   "kernels_config": {
    "python": {
     "delete_cmd_postfix": "",
     "delete_cmd_prefix": "del ",
     "library": "var_list.py",
     "varRefreshCmd": "print(var_dic_list())"
    },
    "r": {
     "delete_cmd_postfix": ") ",
     "delete_cmd_prefix": "rm(",
     "library": "var_list.r",
     "varRefreshCmd": "cat(var_dic_list()) "
    }
   },
   "types_to_exclude": [
    "module",
    "function",
    "builtin_function_or_method",
    "instance",
    "_Feature"
   ],
   "window_display": false
  }
 },
 "nbformat": 4,
 "nbformat_minor": 2
}
