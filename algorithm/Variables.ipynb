{
 "cells": [
  {
   "cell_type": "code",
   "execution_count": 1,
   "metadata": {},
   "outputs": [],
   "source": [
    "import requests\n",
    "from bs4 import BeautifulSoup\n",
    "import re"
   ]
  },
  {
   "cell_type": "markdown",
   "metadata": {},
   "source": [
    "### Read html(all unfolded)"
   ]
  },
  {
   "cell_type": "code",
   "execution_count": 2,
   "metadata": {},
   "outputs": [
    {
     "name": "stdout",
     "output_type": "stream",
     "text": [
      "done\n"
     ]
    }
   ],
   "source": [
    "bs = BeautifulSoup(open(\"pyke.html\",encoding='utf-8'), \"html.parser\")\n",
    "print(\"done\")"
   ]
  },
  {
   "cell_type": "code",
   "execution_count": 3,
   "metadata": {},
   "outputs": [
    {
     "name": "stdout",
     "output_type": "stream",
     "text": [
      "['승리', '패배', '패배', '승리', '승리', '패배', '패배', '다시하기', '패배', '승리', '패배', '패배', '패배', '승리', '패배', '승리', '승리', '패배', '패배', '다시하기', '승리', '다시하기', '승리', '패배', '승리', '패배', '패배', '승리', '승리', '패배', '패배', '패배', '패배', '패배', '승리', '패배', '패배', '패배', '패배', '패배']\n",
      "['솔로 랭크', '일반', '일반', '일반', '일반', '솔로 랭크', '솔로 랭크', '솔로 랭크', '솔로 랭크', '솔로 랭크', '솔로 랭크', '솔로 랭크', '솔로 랭크', '솔로 랭크', '솔로 랭크', '솔로 랭크', '솔로 랭크', '솔로 랭크', '솔로 랭크', '솔로 랭크', '솔로 랭크', '솔로 랭크', '솔로 랭크', '솔로 랭크', '솔로 랭크', '솔로 랭크', '솔로 랭크', '솔로 랭크', '솔로 랭크', '솔로 랭크', '솔로 랭크', '일반', '우르프', '일반', '일반', '일반', '일반', '일반', '일반', '일반']\n",
      "['23:34', '29:10', '15:56', '23:59', '21:34', '20:35', '19:07', '3:16', '16:31', '31:29', '22:18', '25:28', '30:26', '33:01', '33:15', '28:53', '33:07', '21:46', '21:31', '3:11', '27:26', '3:12', '21:56', '15:27', '18:40', '29:44', '36:58', '42:24', '30:12', '16:13', '27:33', '31:16', '9:34', '36:57', '32:31', '21:14', '21:45', '35:02', '18:29', '43:15']\n"
     ]
    }
   ],
   "source": [
    "list_data = bs.select('.status div.match-history__column span')\n",
    "\n",
    "win_list = []\n",
    "rank_list = []\n",
    "time_list = []\n",
    "\n",
    "cnt = 1\n",
    "for i in list_data:\n",
    "    if cnt%4 == 1:\n",
    "        win_list.append(i.text)\n",
    "    elif cnt%4 == 2:\n",
    "        rank_list.append(i.text)\n",
    "    elif cnt%4 == 3:\n",
    "        time_list.append(i.text)\n",
    "    \n",
    "    cnt += 1\n",
    "    \n",
    "print(win_list)\n",
    "print(rank_list)\n",
    "print(time_list)"
   ]
  },
  {
   "cell_type": "code",
   "execution_count": 4,
   "metadata": {},
   "outputs": [
    {
     "name": "stdout",
     "output_type": "stream",
     "text": [
      "['바드', '바드', '바드', '바드', '바드', '바드', '바드', '바드', '바드', '바드', '바드', '바드', '바드', '바드', '바드', '바드', '바드', '바드', '바드', '바드', '바드', '바드', '바드', '바드', '바드', '바드', '바드', '바드', '바드', '바드', '바드', '바드', '바드', '바드', '바드', '바드', '바드', '바드', '바드', '바드']\n"
     ]
    }
   ],
   "source": [
    "list_data = bs.select('.stats div.participant div.champion img')\n",
    "\n",
    "champion_list = []\n",
    "\n",
    "for i in list_data:\n",
    "    champion_list.append(i['alt'])\n",
    "    \n",
    "print(champion_list)"
   ]
  },
  {
   "cell_type": "code",
   "execution_count": 5,
   "metadata": {},
   "outputs": [
    {
     "name": "stdout",
     "output_type": "stream",
     "text": [
      "[1, 1, 2, 1, 1, 4, 0, 0, 0, 3, 3, 1, 2, 1, 2, 6, 4, 2, 1, 0, 1, 0, 1, 1, 2, 4, 4, 7, 5, 1, 1, 4, 4, 4, 4, 2, 0, 7, 2, 2]\n",
      "[1, 3, 5, 1, 0, 4, 0, 0, 1, 4, 7, 8, 1, 3, 5, 1, 2, 2, 6, 1, 3, 0, 3, 2, 0, 5, 5, 6, 3, 4, 2, 7, 7, 10, 8, 1, 4, 8, 3, 6]\n",
      "[7, 3, 2, 11, 6, 4, 1, 0, 1, 14, 5, 6, 7, 7, 7, 12, 16, 2, 6, 0, 7, 0, 17, 0, 5, 9, 10, 17, 9, 1, 8, 10, 2, 12, 17, 4, 2, 17, 2, 12]\n"
     ]
    }
   ],
   "source": [
    "list_data = bs.select('.stats div.kda div.kda span')\n",
    "\n",
    "kill_list = []\n",
    "death_list = []\n",
    "assist_list = []\n",
    "\n",
    "cnt = 1\n",
    "for i in list_data:\n",
    "    if cnt%3 == 1:\n",
    "        kill_list.append(int(i.text))\n",
    "    elif cnt%3 == 2:\n",
    "        death_list.append(int(i.text))\n",
    "    elif cnt%3 == 0:\n",
    "        assist_list.append(int(i.text))\n",
    "\n",
    "    cnt += 1\n",
    "\n",
    "print(kill_list)\n",
    "print(death_list)\n",
    "print(assist_list)"
   ]
  },
  {
   "cell_type": "code",
   "execution_count": 6,
   "metadata": {},
   "outputs": [
    {
     "name": "stdout",
     "output_type": "stream",
     "text": [
      "[30, 33, 57, 46, 44, 57, 50, 0, 20, 74, 53, 44, 47, 27, 43, 49, 59, 44, 39, 0, 21, 0, 51, 25, 44, 54, 50, 50, 58, 50, 60, 61, 35, 43, 53, 55, 17, 55, 44, 36]\n",
      "[8, 8, 5, 7, 4, 8, 8, 0, 4, 13, 9, 11, 13, 14, 15, 9, 11, 5, 7, 0, 9, 0, 7, 4, 3, 8, 10, 15, 8, 5, 5, 10, 1, 12, 11, 0, 2, 2, 3, 3]\n",
      "[28, 32, 6, 19, 15, 26, 18, 1, 10, 35, 16, 21, 37, 35, 30, 30, 33, 16, 15, 1, 20, 1, 14, 8, 10, 28, 33, 55, 29, 8, 17, 29, 4, 36, 30, 6, 10, 34, 6, 33]\n",
      "[1, 5, 0, 4, 0, 5, 4, 0, 2, 7, 5, 4, 3, 10, 7, 11, 12, 4, 2, 0, 6, 0, 5, 1, 3, 0, 6, 8, 10, 2, 10, 8, 0, 5, 6, 0, 2, 3, 1, 3]\n"
     ]
    }
   ],
   "source": [
    "list_data = bs.select('.stats div.stats span')\n",
    "\n",
    "list1 = []\n",
    "list4 = []\n",
    "list5 = []\n",
    "list6 = []\n",
    "\n",
    "cnt = 1\n",
    "for i in list_data:\n",
    "    if cnt % 6 == 1:\n",
    "        list1.append(int(i.text[:-1]))\n",
    "        \n",
    "    elif cnt % 6 == 4:\n",
    "        if i.text == '':\n",
    "            list4.append(0)\n",
    "        else:\n",
    "            list4.append(int(i.text))\n",
    "        \n",
    "    elif cnt % 6 == 5:\n",
    "        if i.text == '':\n",
    "            list5.append(0)\n",
    "        else:\n",
    "            list5.append(int(i.text))\n",
    "        \n",
    "    elif cnt % 6 == 0:\n",
    "        if i.text == '':\n",
    "            list6.append(0)\n",
    "        else:\n",
    "            list6.append(int(i.text))\n",
    "        \n",
    "    cnt += 1\n",
    "    \n",
    "print(list1)\n",
    "print(list4)\n",
    "print(list5)\n",
    "print(list6)"
   ]
  },
  {
   "cell_type": "code",
   "execution_count": 7,
   "metadata": {
    "scrolled": true
   },
   "outputs": [
    {
     "name": "stdout",
     "output_type": "stream",
     "text": [
      "[2400, 6500, 5200, 6700, 3500, 6600, 5400, 228, 3300, 11900, 7500, 5700, 9700, 13400, 13200, 12400, 13600, 4800, 5900, 653, 5800, 432, 7000, 3300, 4000, 10800, 7600, 21800, 7800, 4000, 4500, 15300, 5500, 12700, 13800, 4500, 5300, 20000, 3900, 16500]\n",
      "[5200, 14300, 8200, 6500, 4000, 8900, 5800, 185, 5700, 17200, 14800, 16600, 14800, 11700, 22500, 11700, 13600, 3800, 13800, 844, 7600, 695, 7800, 6200, 4400, 15500, 20500, 26700, 11200, 5800, 9900, 14000, 8600, 24600, 15200, 7300, 6000, 22100, 9100, 34900]\n",
      "[24, 70, 14, 30, 30, 30, 29, 3, 24, 35, 36, 32, 52, 41, 42, 35, 44, 26, 21, 0, 9, 0, 5, 9, 6, 9, 18, 26, 14, 9, 27, 19, 22, 19, 17, 8, 19, 16, 6, 39]\n",
      "[5700, 6500, 3800, 5900, 5000, 6300, 3500, 795, 3300, 8400, 6300, 5500, 7300, 8100, 7500, 8800, 9100, 4900, 5000, 758, 6700, 789, 6400, 3500, 4600, 8200, 8900, 12400, 8600, 3500, 6400, 8200, 7000, 9600, 9600, 5200, 4500, 11600, 4500, 10600]\n"
     ]
    }
   ],
   "source": [
    "list_data = bs.select('.match-detail-ranks__content div.justify-content-center div.col-md-3 div.indicator div.indicator__content div.indicator__stats div.indicator__value span.font-weight-bold')\n",
    "\n",
    "data1 = []\n",
    "data2 = []\n",
    "data6 = []\n",
    "data8 = []\n",
    "\n",
    "cnt = 1\n",
    "for i in list_data:\n",
    "    if cnt % 8 == 1:\n",
    "        if i.text[-1] == 'K':\n",
    "            data1.append(int(float(i.text[:-1]) * 1000))\n",
    "        else:\n",
    "            data1.append(int(float(i.text)))\n",
    "    \n",
    "    elif cnt % 8 == 2:\n",
    "        if i.text[-1] == 'K':\n",
    "            data2.append(int(float(i.text[:-1]) * 1000))\n",
    "        else:\n",
    "            data2.append(int(float(i.text)))\n",
    "    \n",
    "    elif cnt % 8 == 6:\n",
    "        data6.append(int(i.text))\n",
    "\n",
    "    elif cnt % 8 == 0:\n",
    "        if i.text[-1] == 'K':\n",
    "            data8.append(int(float(i.text[:-1]) * 1000))\n",
    "        else:\n",
    "            data8.append(int(float(i.text)))\n",
    "        \n",
    "    cnt += 1\n",
    "    \n",
    "print(data1)\n",
    "print(data2)\n",
    "print(data6)\n",
    "print(data8)"
   ]
  },
  {
   "cell_type": "code",
   "execution_count": 8,
   "metadata": {},
   "outputs": [
    {
     "name": "stdout",
     "output_type": "stream",
     "text": [
      "[5, 5, 5, 5, 5, 5, 5, 1, 5, 5, 5, 5, 5, 5, 5, 5, 5, 5, 5, 5, 5, 1, 5, 5, 5, 5, 5, 5, 5, 5, 5, 5, 3, 5, 5, 5, 5, 5, 5, 5]\n",
      "40\n"
     ]
    }
   ],
   "source": [
    "list_data = bs.select('.match-history__content div.summoners div.summoners div.summoner a span')\n",
    "line_temp = []\n",
    "\n",
    "cnt = 1\n",
    "for i in list_data:\n",
    "    if i.text == \"그린비치\" or i.text == \"DAVICHIAR\":\n",
    "        line_temp.append(cnt % 10)\n",
    "    \n",
    "    cnt += 1\n",
    "\n",
    "line_data = []\n",
    "cnt = 1\n",
    "for i in line_temp:\n",
    "    if cnt % 2 == 1:\n",
    "        line_data.append(i)\n",
    "    cnt += 1\n",
    "    \n",
    "print(line_data)\n",
    "print(len(line_data))"
   ]
  },
  {
   "cell_type": "code",
   "execution_count": 9,
   "metadata": {
    "scrolled": true
   },
   "outputs": [
    {
     "name": "stdout",
     "output_type": "stream",
     "text": [
      "36.11 36 13 23 26 37 2.4 3.7 7.7 0.93 45.6 7.7 23.0 4.6 8508 12441 6775\n"
     ]
    }
   ],
   "source": [
    "win_count = 0\n",
    "lose_count = 0\n",
    "\n",
    "minute_count = 0\n",
    "second_count = 0\n",
    "\n",
    "win_rate = 0.0\n",
    "time_rate = 0.0\n",
    "kill_rate = 0.0\n",
    "death_rate = 0.0\n",
    "assist_rate = 0.0\n",
    "parti_rate = 0.0\n",
    "wad1_rate = 0.0\n",
    "wad2_rate = 0.0\n",
    "wad3_rate = 0.0\n",
    "damage_rate1 = 0.0\n",
    "damage_rate2 = 0.0\n",
    "cs_rate = 0.0\n",
    "gold_rate = 0.0\n",
    "\n",
    "cnt = 0\n",
    "for i in range(len(win_list)):\n",
    "    if win_list[i] != \"다시하기\" and rank_list[i] == \"솔로 랭크\" and line_data[i] == 5:\n",
    "        # print(win_list[i], rank_list[i], time_list[i], champion_list[i], kill_list[i], death_list[i], assist_list[i], list1[i], list4[i], list5[i], list6[i], data1[i], data2[i], data8[i], line_data[i])\n",
    "        # print(\"\")\n",
    "        if win_list[i] == \"승리\":\n",
    "            win_count += 1\n",
    "        if win_list[i] == \"패배\":\n",
    "            lose_count += 1\n",
    "            \n",
    "        minute_count += int(time_list[i].split(':')[0])\n",
    "        second_count += int(time_list[i].split(':')[1])\n",
    "        \n",
    "        kill_rate += kill_list[i]\n",
    "        death_rate += death_list[i]\n",
    "        assist_rate += assist_list[i]\n",
    "        parti_rate += list1[i]\n",
    "        wad1_rate += list4[i]\n",
    "        wad2_rate += list5[i]\n",
    "        wad3_rate += list6[i]\n",
    "        damage_rate1 += data1[i]\n",
    "        damage_rate2 += data2[i]\n",
    "        cs_rate += data6[i]\n",
    "        gold_rate += data8[i]\n",
    "        \n",
    "        cnt += 1\n",
    "\n",
    "    elif win_list[i] != \"다시하기\" and rank_list[i] == \"일반\" and line_data[i] == 5:\n",
    "        # print(win_list[i], rank_list[i], time_list[i], champion_list[i], kill_list[i], death_list[i], assist_list[i], list1[i], list4[i], list5[i], list6[i], data1[i], data2[i], data8[i], line_data[i])\n",
    "        # print(\"\")\n",
    "        if win_list[i] == \"승리\":\n",
    "            win_count += 1\n",
    "        if win_list[i] == \"패배\":\n",
    "            lose_count += 1\n",
    "            \n",
    "        minute_count += int(time_list[i].split(':')[0])\n",
    "        second_count += int(time_list[i].split(':')[1])\n",
    "        \n",
    "        kill_rate += kill_list[i]\n",
    "        death_rate += death_list[i]\n",
    "        assist_rate += assist_list[i]\n",
    "        parti_rate += list1[i]\n",
    "        wad1_rate += list4[i]\n",
    "        wad2_rate += list5[i]\n",
    "        wad3_rate += list6[i]\n",
    "        damage_rate1 += data1[i]\n",
    "        damage_rate2 += data2[i]\n",
    "        cs_rate += data6[i]\n",
    "        gold_rate += data8[i]\n",
    "        \n",
    "        cnt += 1\n",
    "\n",
    "win_rate = win_count / cnt\n",
    "minute_count = minute_count / cnt\n",
    "second_count = second_count / cnt\n",
    "\n",
    "time_rate = int(minute_count)\n",
    "minute_count -= time_rate\n",
    "minute_count *= 60\n",
    "second_count += minute_count\n",
    "\n",
    "if second_count >= 60:\n",
    "    time_rate += 1\n",
    "    second_count -= 60\n",
    "    \n",
    "second_count = int(second_count)\n",
    "\n",
    "kill_rate = round(kill_rate / cnt, 1)\n",
    "death_rate = round(death_rate / cnt, 1)\n",
    "assist_rate = round(assist_rate / cnt, 1)\n",
    "parti_rate = round(parti_rate / cnt, 1)\n",
    "wad1_rate = round(wad1_rate / cnt, 1)\n",
    "wad2_rate = round(wad2_rate / cnt, 1)\n",
    "wad3_rate = round(wad3_rate / cnt, 1)\n",
    "damage_rate1 = int(damage_rate1 / cnt)\n",
    "damage_rate2 = int(damage_rate2 / cnt)\n",
    "gold_rate = int(gold_rate / cnt)\n",
    "\n",
    "temp = time_rate + (second_count / 60)\n",
    "cs_rate = round(cs_rate / cnt / temp, 2)\n",
    "# print(temp, cs_rate)\n",
    "\n",
    "print(round(win_rate*100, 2), cnt, win_count, lose_count, time_rate, second_count, kill_rate, death_rate, assist_rate, cs_rate, parti_rate, wad1_rate, wad2_rate, wad3_rate, damage_rate1, damage_rate2, gold_rate)"
   ]
  },
  {
   "cell_type": "code",
   "execution_count": null,
   "metadata": {},
   "outputs": [],
   "source": []
  },
  {
   "cell_type": "code",
   "execution_count": null,
   "metadata": {},
   "outputs": [],
   "source": []
  }
 ],
 "metadata": {
  "kernelspec": {
   "display_name": "Python 3",
   "language": "python",
   "name": "python3"
  },
  "language_info": {
   "codemirror_mode": {
    "name": "ipython",
    "version": 3
   },
   "file_extension": ".py",
   "mimetype": "text/x-python",
   "name": "python",
   "nbconvert_exporter": "python",
   "pygments_lexer": "ipython3",
   "version": "3.6.8"
  },
  "varInspector": {
   "cols": {
    "lenName": 16,
    "lenType": 16,
    "lenVar": 40
   },
   "kernels_config": {
    "python": {
     "delete_cmd_postfix": "",
     "delete_cmd_prefix": "del ",
     "library": "var_list.py",
     "varRefreshCmd": "print(var_dic_list())"
    },
    "r": {
     "delete_cmd_postfix": ") ",
     "delete_cmd_prefix": "rm(",
     "library": "var_list.r",
     "varRefreshCmd": "cat(var_dic_list()) "
    }
   },
   "types_to_exclude": [
    "module",
    "function",
    "builtin_function_or_method",
    "instance",
    "_Feature"
   ],
   "window_display": false
  }
 },
 "nbformat": 4,
 "nbformat_minor": 2
}
