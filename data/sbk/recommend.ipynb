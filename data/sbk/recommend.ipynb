{
 "metadata": {
  "language_info": {
   "codemirror_mode": {
    "name": "ipython",
    "version": 3
   },
   "file_extension": ".py",
   "mimetype": "text/x-python",
   "name": "python",
   "nbconvert_exporter": "python",
   "pygments_lexer": "ipython3",
   "version": "3.8.3-final"
  },
  "orig_nbformat": 2,
  "kernelspec": {
   "name": "python_defaultSpec_1600243535395",
   "display_name": "Python 3.8.3 64-bit ('base': conda)"
  }
 },
 "nbformat": 4,
 "nbformat_minor": 2,
 "cells": [
  {
   "cell_type": "code",
   "execution_count": 3,
   "metadata": {},
   "outputs": [],
   "source": [
    "import pandas as pd\n",
    "\n",
    "from parse_kci import load_dataframes\n",
    "from sklearn.feature_extraction.text import TfidfVectorizer\n",
    "from gensim.models.keyedvectors import KeyedVectors\n",
    "w2vec = KeyedVectors.load_word2vec_format(\\\n",
    "        'F:/Install/GoogleNews-vectors-negative300.bin.gz', binary=True, limit=900000)"
   ]
  },
  {
   "cell_type": "code",
   "execution_count": 4,
   "metadata": {},
   "outputs": [
    {
     "output_type": "execute_result",
     "data": {
      "text/plain": "[('queen', 0.7118192911148071),\n ('monarch', 0.6189674139022827),\n ('princess', 0.5902431607246399)]"
     },
     "metadata": {},
     "execution_count": 4
    }
   ],
   "source": [
    "w2vec.most_similar(positive=['king', 'woman'], negative=['man'], topn=3)"
   ]
  },
  {
   "cell_type": "code",
   "execution_count": 5,
   "metadata": {},
   "outputs": [
    {
     "output_type": "execute_result",
     "data": {
      "text/plain": "0.5648359"
     },
     "metadata": {},
     "execution_count": 5
    }
   ],
   "source": [
    "w2vec.similarity('korea', 'japan')"
   ]
  },
  {
   "cell_type": "code",
   "execution_count": 7,
   "metadata": {},
   "outputs": [
    {
     "output_type": "execute_result",
     "data": {
      "text/plain": "[('Software', 0.48984354734420776),\n ('iLife_iWork', 0.47542810440063477),\n ('programmer', 0.4731772243976593),\n ('Qlusters', 0.4657154083251953),\n ('Pramati', 0.46331697702407837)]"
     },
     "metadata": {},
     "execution_count": 7
    }
   ],
   "source": [
    "w2vec.most_similar(positive=['chef'], topn=5)\n",
    "w2vec.most_similar(positive=['chef', 'software'], negative=['food'], topn=5)"
   ]
  },
  {
   "cell_type": "code",
   "execution_count": 72,
   "metadata": {},
   "outputs": [],
   "source": [
    "import pandas as pd\n",
    "\n",
    "DATA_DIR = \"F:/SSAFY_doc_3\"\n",
    "DUMP_FILE = os.path.join(DATA_DIR, \"dumps.pkl\")\n",
    "\n",
    "data = pd.read_pickle(DUMP_FILE)\n",
    "papers = data.drop_duplicates([\"논문명\"]).reset_index()\n"
   ]
  },
  {
   "cell_type": "code",
   "execution_count": 73,
   "metadata": {},
   "outputs": [],
   "source": [
    "def remove_stop_words(corpus):\n",
    "    stop_words = ['is', 'a', 'will', 'be', 'the', 'object', 'this', 'study', 'was', 'very', 'The', 'to', 'of', 'This', 'Study', 'in', 'role', 'examine', 'by']\n",
    "    results = []\n",
    "    for text in corpus:\n",
    "        if type(text)==type(1.0): continue\n",
    "        tmp = text.split(' ')\n",
    "        for stop_word in stop_words:\n",
    "            if stop_word in tmp:\n",
    "                tmp.remove(stop_word)\n",
    "        results.append(\" \".join(tmp))\n",
    "    \n",
    "    return results"
   ]
  },
  {
   "cell_type": "code",
   "execution_count": 74,
   "metadata": {},
   "outputs": [],
   "source": [
    "corpus = remove_stop_words(data[\"abstract\"])"
   ]
  },
  {
   "cell_type": "code",
   "execution_count": 75,
   "metadata": {},
   "outputs": [],
   "source": [
    "words = []\n",
    "for text in corpus:\n",
    "    for word in text.split(' '):\n",
    "        words.append(word)\n",
    "\n",
    "words = set(words)"
   ]
  },
  {
   "cell_type": "markdown",
   "metadata": {},
   "source": [
    "words"
   ]
  },
  {
   "cell_type": "code",
   "execution_count": 76,
   "metadata": {},
   "outputs": [],
   "source": [
    "# data generation\n",
    "\n",
    "\n",
    "word2int = {}\n",
    "\n",
    "for i,word in enumerate(words):\n",
    "    word2int[word] = i\n",
    "\n",
    "sentences = []\n",
    "for sentence in corpus:\n",
    "    sentences.append(sentence.split())\n",
    "    \n",
    "WINDOW_SIZE = 2\n",
    "\n",
    "data = []\n",
    "for sentence in sentences:\n",
    "    for idx, word in enumerate(sentence):\n",
    "        for neighbor in sentence[max(idx - WINDOW_SIZE, 0) : min(idx + WINDOW_SIZE, len(sentence)) + 1] : \n",
    "            if neighbor != word:\n",
    "                data.append([word, neighbor])"
   ]
  },
  {
   "cell_type": "code",
   "execution_count": 77,
   "metadata": {
    "tags": [
     "outputPrepend"
    ]
   },
   "outputs": [
    {
     "output_type": "stream",
     "name": "stdout",
     "text": "로 유출되는 사례가 증가하고 있으며, 조사에 따르면정보유출 사고의 주체로 가장 많은 부분을 차지하고 있는 것이 대부분 권한이 있는 내부자로써 조직의 주요 자산에비교적 손쉽게 접근할 수 있다는 내부자의 특성으로 외부에서의 공격에 의한 기술유출에 비해 보다 더 큰 피해를 일으킬 수 있다.\n이번 연구에서는 업무망과 인터넷망의 분리된 서로 다른 영역(보안영역과 非-보안영역 등)간의 자료를 안전하게전송해주는 망간 자료전송시스템 전송 로그, 이메일 전송 로그, 인사정보 등 실제 데이터를 이용하여 기계학습 기법중 지도 학습 알고리즘을 통한 이상 행위 탐지를 위한 최적화된 속성 모델을 제시하고자 한다.\n최근 국가·공공기관 등 중요자료(개인정보, 기술 등)가 외부로 유출되는 사례가 증가하고 있으며, 조사에 따르면정보유출 사고의 주체로 가장 많은 부분을 차지하고 있는 것이 대부분 권한이 있는 내부자로써 조직의 주요 자산에비교적 손쉽게 접근할 수 있다는 내부자의 특성으로 외부에서의 공격에 의한 기술유출에 비해 보다 더 큰 피해를 일으킬 수 있다.\n이번 연구에서는 업무망과 인터넷망의 분리된 서로 다른 영역(보안영역과 非-보안영역 등)간의 자료를 안전하게전송해주는 망간 자료전송시스템 전송 로그, 이메일 전송 로그, 인사정보 등 실제 데이터를 이용하여 기계학습 기법중 지도 학습 알고리즘을 통한 이상 행위 탐지를 위한 최적화된 속성 모델을 제시하고자 한다.\n최근 국가·공공기관 등 중요자료(개인정보, 기술 등)가 외부로 유출되는 사례가 증가하고 있으며, 조사에 따르면정보유출 사고의 주체로 가장 많은 부분을 차지하고 있는 것이 대부분 권한이 있는 내부자로써 조직의 주요 자산에비교적 손쉽게 접근할 수 있다는 내부자의 특성으로 외부에서의 공격에 의한 기술유출에 비해 보다 더 큰 피해를 일으킬 수 있다.\n이번 연구에서는 업무망과 인터넷망의 분리된 서로 다른 영역(보안영역과 非-보안영역 등)간의 자료를 안전하게전송해주는 망간 자료전송시스템 전송 로그, 이메일 전송 로그, 인사정보 등 실제 데이터를 이용하여 기계학습 기법중 지도 학습 알고리즘을 통한 이상 행위 탐지를 위한 최적화된 속성 모델을 제시하고자 한다.\nIn study, It necessary that we should on more effective use about reciprocating engines because there are huge increase air pollution. Diesel Engine is operated injecting fuel directly combustion chamber with high pressure. Diesel Engine has greater thermal efficiency and durability than Gasoline Engine. Also, Diesel Engine emitted low harmful exhaust witch caused by Gasoline Engine.\nThere are many ways to improve of performance and decrease of harmful exhaust by controlling injection timing, changing amount of fuel and engine speed and so on.\nEspecially, development and application of common rail direct injection Engine cause increase of thermal efficiency by controlling various of operating conditions. In this study we analyze characteristics of performance by changing a various of operating conditions.\nIn study, It necessary that we should on more effective use about reciprocating engines because there are huge increase air pollution. Diesel Engine is operated injecting fuel directly combustion chamber with high pressure. Diesel Engine has greater thermal efficiency and durability than Gasoline Engine. Also, Diesel Engine emitted low harmful exhaust witch caused by Gasoline Engine.\nThere are many ways to improve of performance and decrease of harmful exhaust by controlling injection timing, changing amount of fuel and engine speed and so on.\nEspecially, development and application of common rail direct injection Engine cause increase of thermal efficiency by controlling various of operating conditions. In this study we analyze characteristics of performance by changing a various of operating conditions.\nIn study, It necessary that we should on more effective use about reciprocating engines because there are huge increase air pollution. Diesel Engine is operated injecting fuel directly combustion chamber with high pressure. Diesel Engine has greater thermal efficiency and durability than Gasoline Engine. Also, Diesel Engine emitted low harmful exhaust witch caused by Gasoline Engine.\nThere are many ways to improve of performance and decrease of harmful exhaust by controlling injection timing, changing amount of fuel and engine speed and so on.\nEspecially, development and application of common rail direct injection Engine cause increase of thermal efficiency by controlling various of operating conditions. In this study we analyze characteristics of performance by changing a various of operating conditions.\nIn study, It necessary that we should on more effective use about reciprocating engines because there are huge increase air pollution. Diesel Engine is operated injecting fuel directly combustion chamber with high pressure. Diesel Engine has greater thermal efficiency and durability than Gasoline Engine. Also, Diesel Engine emitted low harmful exhaust witch caused by Gasoline Engine.\nThere are many ways to improve of performance and decrease of harmful exhaust by controlling injection timing, changing amount of fuel and engine speed and so on.\nEspecially, development and application of common rail direct injection Engine cause increase of thermal efficiency by controlling various of operating conditions. In this study we analyze characteristics of performance by changing a various of operating conditions.\nIn study, It necessary that we should on more effective use about reciprocating engines because there are huge increase air pollution. Diesel Engine is operated injecting fuel directly combustion chamber with high pressure. Diesel Engine has greater thermal efficiency and durability than Gasoline Engine. Also, Diesel Engine emitted low harmful exhaust witch caused by Gasoline Engine.\nThere are many ways to improve of performance and decrease of harmful exhaust by controlling injection timing, changing amount of fuel and engine speed and so on.\nEspecially, development and application of common rail direct injection Engine cause increase of thermal efficiency by controlling various of operating conditions. In this study we analyze characteristics of performance by changing a various of operating conditions.\nestimation heat source model important for heat transfer analysis with finite element method. Part I of used adaptive simulated annealing which is one of global optimization algorithm for anticipating the parameters of the Goldak model. Although the analysis with 3D model which depicted the real situation produced the correct answer, that took too much time with moving heat source model based on Fortran and Abaqus.\nThis research suggests the procedure which can reduce time with maintaining quality of analysis. The lead time with 2D model is reduced 90% comparing that of 3D model, the temperature distribution is similar each other. That is based on the saturation of heat transfer among the direction of heat source movement.\nAdaptive simulated annealing with 2D model can used to estimate more proper heat source model and which could enhance to reduce the resources and time for experiments.\nestimation heat source model important for heat transfer analysis with finite element method. Part I of used adaptive simulated annealing which is one of global optimization algorithm for anticipating the parameters of the Goldak model. Although the analysis with 3D model which depicted the real situation produced the correct answer, that took too much time with moving heat source model based on Fortran and Abaqus.\nThis research suggests the procedure which can reduce time with maintaining quality of analysis. The lead time with 2D model is reduced 90% comparing that of 3D model, the temperature distribution is similar each other. That is based on the saturation of heat transfer among the direction of heat source movement.\nAdaptive simulated annealing with 2D model can used to estimate more proper heat source model and which could enhance to reduce the resources and time for experiments.\nestimation heat source model important for heat transfer analysis with finite element method. Part I of used adaptive simulated annealing which is one of global optimization algorithm for anticipating the parameters of the Goldak model. Although the analysis with 3D model which depicted the real situation produced the correct answer, that took too much time with moving heat source model based on Fortran and Abaqus.\nThis research suggests the procedure which can reduce time with maintaining quality of analysis. The lead time with 2D model is reduced 90% comparing that of 3D model, the temperature distribution is similar each other. That is based on the saturation of heat transfer among the direction of heat source movement.\nAdaptive simulated annealing with 2D model can used to estimate more proper heat source model and which could enhance to reduce the resources and time for experiments.\n위상 배열 안테나는 다수개의 안테나 소자를 선형 혹은 평면(격자형 혹은 원형)으로 배열하여 각 소자에 대한 위상을 전자적으로 제어하여 안테나의 기계적인 회전 없이 빔의 신속한 지향이 가능하다. 평면 배열 안테나는 주로 격자형 배열과 원형 배열을 사용하는데 격자형 배열에 비해 원형 배열은 구조적 특성으로 인해 격자형에 비해 분해능이 높다. 하지만 원형 배열은 다수의 안테나를 사용할 경우 배열을 구성하는 반지름 또한 커지게 되어 제한된 면적에 다수의 안테나를 사용할 경우 동심원 배열(CCA : Concentric Circular Array or CRA : Concentric Ring Array)을 사용하게 된다. 본 논문에서는 빔형성 위성 시스템의 송수신단에 원형 및 동심원 배열을 적용하고, 컴퓨터 시뮬레이션을 통해 각 배열을 적용 하였을 때 시스템의 성능을 평가하고 분석한다.\n위상 배열 안테나는 다수개의 안테나 소자를 선형 혹은 평면(격자형 혹은 원형)으로 배열하여 각 소자에 대한 위상을 전자적으로 제어하여 안테나의 기계적인 회전 없이 빔의 신속한 지향이 가능하다. 평면 배열 안테나는 주로 격자형 배열과 원형 배열을 사용하는데 격자형 배열에 비해 원형 배열은 구조적 특성으로 인해 격자형에 비해 분해능이 높다. 하지만 원형 배열은 다수의 안테나를 사용할 경우 배열을 구성하는 반지름 또한 커지게 되어 제한된 면적에 다수의 안테나를 사용할 경우 동심원 배열(CCA : Concentric Circular Array or CRA : Concentric Ring Array)을 사용하게 된다. 본 논문에서는 빔형성 위성 시스템의 송수신단에 원형 및 동심원 배열을 적용하고, 컴퓨터 시뮬레이션을 통해 각 배열을 적용 하였을 때 시스템의 성능을 평가하고 분석한다.\n위상 배열 안테나는 다수개의 안테나 소자를 선형 혹은 평면(격자형 혹은 원형)으로 배열하여 각 소자에 대한 위상을 전자적으로 제어하여 안테나의 기계적인 회전 없이 빔의 신속한 지향이 가능하다. 평면 배열 안테나는 주로 격자형 배열과 원형 배열을 사용하는데 격자형 배열에 비해 원형 배열은 구조적 특성으로 인해 격자형에 비해 분해능이 높다. 하지만 원형 배열은 다수의 안테나를 사용할 경우 배열을 구성하는 반지름 또한 커지게 되어 제한된 면적에 다수의 안테나를 사용할 경우 동심원 배열(CCA : Concentric Circular Array or CRA : Concentric Ring Array)을 사용하게 된다. 본 논문에서는 빔형성 위성 시스템의 송수신단에 원형 및 동심원 배열을 적용하고, 컴퓨터 시뮬레이션을 통해 각 배열을 적용 하였을 때 시스템의 성능을 평가하고 분석한다.\n위상 배열 안테나는 다수개의 안테나 소자를 선형 혹은 평면(격자형 혹은 원형)으로 배열하여 각 소자에 대한 위상을 전자적으로 제어하여 안테나의 기계적인 회전 없이 빔의 신속한 지향이 가능하다. 평면 배열 안테나는 주로 격자형 배열과 원형 배열을 사용하는데 격자형 배열에 비해 원형 배열은 구조적 특성으로 인해 격자형에 비해 분해능이 높다. 하지만 원형 배열은 다수의 안테나를 사용할 경우 배열을 구성하는 반지름 또한 커지게 되어 제한된 면적에 다수의 안테나를 사용할 경우 동심원 배열(CCA : Concentric Circular Array or CRA : Concentric Ring Array)을 사용하게 된다. 본 논문에서는 빔형성 위성 시스템의 송수신단에 원형 및 동심원 배열을 적용하고, 컴퓨터 시뮬레이션을 통해 각 배열을 적용 하였을 때 시스템의 성능을 평가하고 분석한다.\n본 논문은 무인헬기의 상부 및 하부에 탑재되는 전방향 안테나를 자동으로 선택하여, 비행 중에 데이터링크의 링크 마진을 0dB 이상으로 유지하도록 하는 안테나 선택로직을 구현한 내용으로, 비행체에 장착된 안테나의 방사 패턴을 시뮬레이션하고 분석하여 선택 기준을 도출하였으며, 비행체의 자세 및 비행체와 지상체와의 상대적 위치에 따라 비행체 안테나에서의 지향각이 분석된 방사 패턴의 어떤 지점을 향하는지를 함수로 유도하여 비행 중 실시간으로 최적의 안테나를 선택하도록 구현한 내용이다.\n본 논문은 무인헬기의 상부 및 하부에 탑재되는 전방향 안테나를 자동으로 선택하여, 비행 중에 데이터링크의 링크 마진을 0dB 이상으로 유지하도록 하는 안테나 선택로직을 구현한 내용으로, 비행체에 장착된 안테나의 방사 패턴을 시뮬레이션하고 분석하여 선택 기준을 도출하였으며, 비행체의 자세 및 비행체와 지상체와의 상대적 위치에 따라 비행체 안테나에서의 지향각이 분석된 방사 패턴의 어떤 지점을 향하는지를 함수로 유도하여 비행 중 실시간으로 최적의 안테나를 선택하도록 구현한 내용이다.\n본 논문은 무인헬기의 상부 및 하부에 탑재되는 전방향 안테나를 자동으로 선택하여, 비행 중에 데이터링크의 링크 마진을 0dB 이상으로 유지하도록 하는 안테나 선택로직을 구현한 내용으로, 비행체에 장착된 안테나의 방사 패턴을 시뮬레이션하고 분석하여 선택 기준을 도출하였으며, 비행체의 자세 및 비행체와 지상체와의 상대적 위치에 따라 비행체 안테나에서의 지향각이 분석된 방사 패턴의 어떤 지점을 향하는지를 함수로 유도하여 비행 중 실시간으로 최적의 안테나를 선택하도록 구현한 내용이다.\n본 논문은 무인헬기의 상부 및 하부에 탑재되는 전방향 안테나를 자동으로 선택하여, 비행 중에 데이터링크의 링크 마진을 0dB 이상으로 유지하도록 하는 안테나 선택로직을 구현한 내용으로, 비행체에 장착된 안테나의 방사 패턴을 시뮬레이션하고 분석하여 선택 기준을 도출하였으며, 비행체의 자세 및 비행체와 지상체와의 상대적 위치에 따라 비행체 안테나에서의 지향각이 분석된 방사 패턴의 어떤 지점을 향하는지를 함수로 유도하여 비행 중 실시간으로 최적의 안테나를 선택하도록 구현한 내용이다.\nBecause suicide accidents sometimes were happened grand bridges over rivers or sea water recently, it necessary that prevention measures be made preparation in advance from now on. Additional safety facilities must be needed in addition existing safety facilities in such way as prevention measure. In order to make cable-stayed bridge safe on wind for additional safety facilities, main girder models with added safety facilities for wind-tunnel tests made, and wind tunnel experiments was carried out to measure aerodynamic force coefficients. Also, wind-resistant analyses 3D cable-stayed bridge were performed on basis of wind-tunnel test results. From the wind experiments, force coefficients of main girder with added safety facilities were assessed, and it known that there are little possibility of galloping and rotation of steel main girder. Finally, from the wind resistant analyses, it was concluded that wind-resistant safety of cable-stayed bridge was secured on wind speed 60.6m/sec.\nBecause suicide accidents sometimes were happened grand bridges over rivers or sea water recently, it necessary that prevention measures be made preparation in advance from now on. Additional safety facilities must be needed in addition existing safety facilities in such way as prevention measure. In order to make cable-stayed bridge safe on wind for additional safety facilities, main girder models with added safety facilities for wind-tunnel tests made, and wind tunnel experiments was carried out to measure aerodynamic force coefficients. Also, wind-resistant analyses 3D cable-stayed bridge were performed on basis of wind-tunnel test results. From the wind experiments, force coefficients of main girder with added safety facilities were assessed, and it known that there are little possibility of galloping and rotation of steel main girder. Finally, from the wind resistant analyses, it was concluded that wind-resistant safety of cable-stayed bridge was secured on wind speed 60.6m/sec.\nBecause suicide accidents sometimes were happened grand bridges over rivers or sea water recently, it necessary that prevention measures be made preparation in advance from now on. Additional safety facilities must be needed in addition existing safety facilities in such way as prevention measure. In order to make cable-stayed bridge safe on wind for additional safety facilities, main girder models with added safety facilities for wind-tunnel tests made, and wind tunnel experiments was carried out to measure aerodynamic force coefficients. Also, wind-resistant analyses 3D cable-stayed bridge were performed on basis of wind-tunnel test results. From the wind experiments, force coefficients of main girder with added safety facilities were assessed, and it known that there are little possibility of galloping and rotation of steel main girder. Finally, from the wind resistant analyses, it was concluded that wind-resistant safety of cable-stayed bridge was secured on wind speed 60.6m/sec.\nBecause suicide accidents sometimes were happened grand bridges over rivers or sea water recently, it necessary that prevention measures be made preparation in advance from now on. Additional safety facilities must be needed in addition existing safety facilities in such way as prevention measure. In order to make cable-stayed bridge safe on wind for additional safety facilities, main girder models with added safety facilities for wind-tunnel tests made, and wind tunnel experiments was carried out to measure aerodynamic force coefficients. Also, wind-resistant analyses 3D cable-stayed bridge were performed on basis of wind-tunnel test results. From the wind experiments, force coefficients of main girder with added safety facilities were assessed, and it known that there are little possibility of galloping and rotation of steel main girder. Finally, from the wind resistant analyses, it was concluded that wind-resistant safety of cable-stayed bridge was secured on wind speed 60.6m/sec.\nBecause suicide accidents sometimes were happened grand bridges over rivers or sea water recently, it necessary that prevention measures be made preparation in advance from now on. Additional safety facilities must be needed in addition existing safety facilities in such way as prevention measure. In order to make cable-stayed bridge safe on wind for additional safety facilities, main girder models with added safety facilities for wind-tunnel tests made, and wind tunnel experiments was carried out to measure aerodynamic force coefficients. Also, wind-resistant analyses 3D cable-stayed bridge were performed on basis of wind-tunnel test results. From the wind experiments, force coefficients of main girder with added safety facilities were assessed, and it known that there are little possibility of galloping and rotation of steel main girder. Finally, from the wind resistant analyses, it was concluded that wind-resistant safety of cable-stayed bridge was secured on wind speed 60.6m/sec.\nBecause suicide accidents sometimes were happened grand bridges over rivers or sea water recently, it necessary that prevention measures be made preparation in advance from now on. Additional safety facilities must be needed in addition existing safety facilities in such way as prevention measure. In order to make cable-stayed bridge safe on wind for additional safety facilities, main girder models with added safety facilities for wind-tunnel tests made, and wind tunnel experiments was carried out to measure aerodynamic force coefficients. Also, wind-resistant analyses 3D cable-stayed bridge were performed on basis of wind-tunnel test results. From the wind experiments, force coefficients of main girder with added safety facilities were assessed, and it known that there are little possibility of galloping and rotation of steel main girder. Finally, from the wind resistant analyses, it was concluded that wind-resistant safety of cable-stayed bridge was secured on wind speed 60.6m/sec.\n.\n추후 기재\n추후 기재\n추후 기재\n추후 기재\n추후 기재\nnumerical analysis two-dimensional transient flow around obstacle with rotated square cross sections carried out. The obtained velocity distributions for each time step and each rotation angle were imaged provide data for CNN(convolutional neural network). Both classification and regression neural networks were used for prediction of rotation angle.\nAs results The classification method incorrectly predicted the rotation angle only 2 of the 470 images. The regression method predicted the rotation angle errors within except 2 out of 470 images. From these facts, it could concluded that both methods can be sufficiently applicable to the flow analysis.\nnumerical analysis two-dimensional transient flow around obstacle with rotated square cross sections carried out. The obtained velocity distributions for each time step and each rotation angle were imaged provide data for CNN(convolutional neural network). Both classification and regression neural networks were used for prediction of rotation angle.\nAs results The classification method incorrectly predicted the rotation angle only 2 of the 470 images. The regression method predicted the rotation angle errors within except 2 out of 470 images. From these facts, it could concluded that both methods can be sufficiently applicable to the flow analysis.\nnumerical analysis two-dimensional transient flow around obstacle with rotated square cross sections carried out. The obtained velocity distributions for each time step and each rotation angle were imaged provide data for CNN(convolutional neural network). Both classification and regression neural networks were used for prediction of rotation angle.\nAs results The classification method incorrectly predicted the rotation angle only 2 of the 470 images. The regression method predicted the rotation angle errors within except 2 out of 470 images. From these facts, it could concluded that both methods can be sufficiently applicable to the flow analysis.\nnumerical analysis two-dimensional transient flow around obstacle with rotated square cross sections carried out. The obtained velocity distributions for each time step and each rotation angle were imaged provide data for CNN(convolutional neural network). Both classification and regression neural networks were used for prediction of rotation angle.\nAs results The classification method incorrectly predicted the rotation angle only 2 of the 470 images. The regression method predicted the rotation angle errors within except 2 out of 470 images. From these facts, it could concluded that both methods can be sufficiently applicable to the flow analysis.\nnumerical analysis two-dimensional transient flow around obstacle with rotated square cross sections carried out. The obtained velocity distributions for each time step and each rotation angle were imaged provide data for CNN(convolutional neural network). Both classification and regression neural networks were used for prediction of rotation angle.\nAs results The classification method incorrectly predicted the rotation angle only 2 of the 470 images. The regression method predicted the rotation angle errors within except 2 out of 470 images. From these facts, it could concluded that both methods can be sufficiently applicable to the flow analysis.\n"
    }
   ],
   "source": [
    "for text in corpus:\n",
    "    print(text)\n",
    "\n",
    "df = pd.DataFrame(data, columns = ['input', 'label'])"
   ]
  },
  {
   "cell_type": "code",
   "execution_count": 78,
   "metadata": {},
   "outputs": [
    {
     "output_type": "execute_result",
     "data": {
      "text/plain": "           input         label\n0      objective            of\n1      objective         blood\n2             of     objective\n3             of         blood\n4             of     perfusion\n5          blood     objective\n6          blood            of\n7          blood     perfusion\n8          blood      magnetic\n9      perfusion            of\n10     perfusion         blood\n11     perfusion      magnetic\n12     perfusion         fluid\n13      magnetic         blood\n14      magnetic     perfusion\n15      magnetic         fluid\n16      magnetic  hyperthermia\n17         fluid     perfusion\n18         fluid      magnetic\n19         fluid  hyperthermia\n20         fluid          drug\n21  hyperthermia      magnetic\n22  hyperthermia         fluid\n23  hyperthermia          drug\n24  hyperthermia     delivery.\n25          drug         fluid\n26          drug  hyperthermia\n27          drug     delivery.\n28          drug      Although\n29     delivery.  hyperthermia",
      "text/html": "<div>\n<style scoped>\n    .dataframe tbody tr th:only-of-type {\n        vertical-align: middle;\n    }\n\n    .dataframe tbody tr th {\n        vertical-align: top;\n    }\n\n    .dataframe thead th {\n        text-align: right;\n    }\n</style>\n<table border=\"1\" class=\"dataframe\">\n  <thead>\n    <tr style=\"text-align: right;\">\n      <th></th>\n      <th>input</th>\n      <th>label</th>\n    </tr>\n  </thead>\n  <tbody>\n    <tr>\n      <th>0</th>\n      <td>objective</td>\n      <td>of</td>\n    </tr>\n    <tr>\n      <th>1</th>\n      <td>objective</td>\n      <td>blood</td>\n    </tr>\n    <tr>\n      <th>2</th>\n      <td>of</td>\n      <td>objective</td>\n    </tr>\n    <tr>\n      <th>3</th>\n      <td>of</td>\n      <td>blood</td>\n    </tr>\n    <tr>\n      <th>4</th>\n      <td>of</td>\n      <td>perfusion</td>\n    </tr>\n    <tr>\n      <th>5</th>\n      <td>blood</td>\n      <td>objective</td>\n    </tr>\n    <tr>\n      <th>6</th>\n      <td>blood</td>\n      <td>of</td>\n    </tr>\n    <tr>\n      <th>7</th>\n      <td>blood</td>\n      <td>perfusion</td>\n    </tr>\n    <tr>\n      <th>8</th>\n      <td>blood</td>\n      <td>magnetic</td>\n    </tr>\n    <tr>\n      <th>9</th>\n      <td>perfusion</td>\n      <td>of</td>\n    </tr>\n    <tr>\n      <th>10</th>\n      <td>perfusion</td>\n      <td>blood</td>\n    </tr>\n    <tr>\n      <th>11</th>\n      <td>perfusion</td>\n      <td>magnetic</td>\n    </tr>\n    <tr>\n      <th>12</th>\n      <td>perfusion</td>\n      <td>fluid</td>\n    </tr>\n    <tr>\n      <th>13</th>\n      <td>magnetic</td>\n      <td>blood</td>\n    </tr>\n    <tr>\n      <th>14</th>\n      <td>magnetic</td>\n      <td>perfusion</td>\n    </tr>\n    <tr>\n      <th>15</th>\n      <td>magnetic</td>\n      <td>fluid</td>\n    </tr>\n    <tr>\n      <th>16</th>\n      <td>magnetic</td>\n      <td>hyperthermia</td>\n    </tr>\n    <tr>\n      <th>17</th>\n      <td>fluid</td>\n      <td>perfusion</td>\n    </tr>\n    <tr>\n      <th>18</th>\n      <td>fluid</td>\n      <td>magnetic</td>\n    </tr>\n    <tr>\n      <th>19</th>\n      <td>fluid</td>\n      <td>hyperthermia</td>\n    </tr>\n    <tr>\n      <th>20</th>\n      <td>fluid</td>\n      <td>drug</td>\n    </tr>\n    <tr>\n      <th>21</th>\n      <td>hyperthermia</td>\n      <td>magnetic</td>\n    </tr>\n    <tr>\n      <th>22</th>\n      <td>hyperthermia</td>\n      <td>fluid</td>\n    </tr>\n    <tr>\n      <th>23</th>\n      <td>hyperthermia</td>\n      <td>drug</td>\n    </tr>\n    <tr>\n      <th>24</th>\n      <td>hyperthermia</td>\n      <td>delivery.</td>\n    </tr>\n    <tr>\n      <th>25</th>\n      <td>drug</td>\n      <td>fluid</td>\n    </tr>\n    <tr>\n      <th>26</th>\n      <td>drug</td>\n      <td>hyperthermia</td>\n    </tr>\n    <tr>\n      <th>27</th>\n      <td>drug</td>\n      <td>delivery.</td>\n    </tr>\n    <tr>\n      <th>28</th>\n      <td>drug</td>\n      <td>Although</td>\n    </tr>\n    <tr>\n      <th>29</th>\n      <td>delivery.</td>\n      <td>hyperthermia</td>\n    </tr>\n  </tbody>\n</table>\n</div>"
     },
     "metadata": {},
     "execution_count": 78
    }
   ],
   "source": [
    "df.head(30)"
   ]
  }
 ]
}